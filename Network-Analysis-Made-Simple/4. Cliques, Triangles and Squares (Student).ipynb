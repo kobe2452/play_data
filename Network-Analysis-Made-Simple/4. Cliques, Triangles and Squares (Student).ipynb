{
 "cells": [
  {
   "cell_type": "code",
   "execution_count": null,
   "metadata": {
    "collapsed": false,
    "slideshow": {
     "slide_type": "slide"
    }
   },
   "outputs": [],
   "source": [
    "import networkx as nx\n",
    "import matplotlib.pyplot as plt\n",
    "import warnings\n",
    "warnings.filterwarnings('ignore')\n",
    "\n",
    "%matplotlib inline"
   ]
  },
  {
   "cell_type": "markdown",
   "metadata": {
    "slideshow": {
     "slide_type": "slide"
    }
   },
   "source": [
    "# Cliques, Triangles and Squares\n",
    "\n",
    "Let's pose a problem: If A knows B and B knows C, would it be probable that A knows C as well? In a graph involving just these three individuals, it may look as such:"
   ]
  },
  {
   "cell_type": "code",
   "execution_count": null,
   "metadata": {
    "collapsed": false,
    "scrolled": true,
    "slideshow": {
     "slide_type": "fragment"
    }
   },
   "outputs": [],
   "source": [
    "G = nx.Graph()\n",
    "G.add_nodes_from(['a', 'b', 'c'])\n",
    "G.add_edges_from([('a','b'), ('b', 'c')])\n",
    "nx.draw(G, with_labels=True)"
   ]
  },
  {
   "cell_type": "markdown",
   "metadata": {
    "slideshow": {
     "slide_type": "subslide"
    }
   },
   "source": [
    "Let's think of another problem: If A knows B, B knows C, C knows D and D knows A, is it likely that A knows C and B knows D? How would this look like?"
   ]
  },
  {
   "cell_type": "code",
   "execution_count": null,
   "metadata": {
    "collapsed": false,
    "slideshow": {
     "slide_type": "fragment"
    }
   },
   "outputs": [],
   "source": [
    "G.add_node('d')\n",
    "G.add_edge('c', 'd')\n",
    "G.add_edge('d', 'a')\n",
    "nx.draw(G, with_labels=True)"
   ]
  },
  {
   "cell_type": "markdown",
   "metadata": {
    "slideshow": {
     "slide_type": "subslide"
    }
   },
   "source": [
    "The set of relationships involving A, B and C, if closed, involves a triangle in the graph. The set of relationships that also include D form a square.\n",
    "\n",
    "You may have observed that social networks (LinkedIn, Facebook, Twitter etc.) have friend recommendation systems. How exactly do they work? Apart from analyzing other variables, closing triangles is one of the core ideas behind the system. A knows B and B knows C, then A probably knows C as well."
   ]
  },
  {
   "cell_type": "markdown",
   "metadata": {
    "slideshow": {
     "slide_type": "subslide"
    }
   },
   "source": [
    "If all of the triangles in the two small-scale networks were closed, then the graph would have represented **cliques**, in which everybody within that subgraph knows one another.\n",
    "\n",
    "In this section, we will attempt to answer the following questions:\n",
    "\n",
    "1. Can we identify cliques?\n",
    "2. Can we identify *potential* cliques that aren't captured by the network?\n",
    "3. Can we model the probability that two unconnected individuals know one another?\n",
    "\n",
    "As usual, let's start by loading the synthetic network."
   ]
  },
  {
   "cell_type": "code",
   "execution_count": null,
   "metadata": {
    "collapsed": false,
    "slideshow": {
     "slide_type": "subslide"
    }
   },
   "outputs": [],
   "source": [
    "# Load the network.\n",
    "G = nx.read_gpickle('Synthetic Social Network.pkl')\n",
    "nx.draw(G, with_labels=True)"
   ]
  },
  {
   "cell_type": "markdown",
   "metadata": {
    "slideshow": {
     "slide_type": "subslide"
    }
   },
   "source": [
    "## Cliques\n",
    "\n",
    "In a social network, cliques are groups of people in which everybody knows everybody. Triangles are a simple example of cliques. Let's try implementing a simple algorithm that finds out whether a node is present in a triangle or not.\n",
    "\n",
    "The core idea is that if a node is present in a triangle, then its neighbors' neighbors' neighbors should include itself."
   ]
  },
  {
   "cell_type": "markdown",
   "metadata": {},
   "source": [
    "### Exercise\n",
    "\n",
    "Write a block of code that identifies whether or not a node is in a triangle. "
   ]
  },
  {
   "cell_type": "code",
   "execution_count": null,
   "metadata": {
    "collapsed": false,
    "slideshow": {
     "slide_type": "subslide"
    }
   },
   "outputs": [],
   "source": [
    "def in_triangle(G, node):\n",
    "    # Put your code below\n",
    "    \n",
    "    \n",
    "    \n",
    "    \n",
    "    \n",
    "in_triangle(G, 3)"
   ]
  },
  {
   "cell_type": "markdown",
   "metadata": {
    "slideshow": {
     "slide_type": "subslide"
    }
   },
   "source": [
    "In reality, NetworkX already has a function that *counts* the number of triangles that any given node is involved in. This is probably more useful than knowing whether a node is present in a triangle or not, but the above code was simply for practice."
   ]
  },
  {
   "cell_type": "code",
   "execution_count": null,
   "metadata": {
    "collapsed": false,
    "slideshow": {
     "slide_type": "fragment"
    }
   },
   "outputs": [],
   "source": [
    "nx.triangles(G, 3)"
   ]
  },
  {
   "cell_type": "markdown",
   "metadata": {
    "slideshow": {
     "slide_type": "subslide"
    }
   },
   "source": [
    "### Exercise\n",
    "\n",
    "Can you write a function that takes in one node and its associated graph as an input, and returns a list or set of itself + all other nodes that it is in a triangle relationship with?\n",
    "\n",
    "Hint: The neighbor of my neighbor should also be my neighbor, then the three of us are in a triangle relationship.\n",
    "\n",
    "Hint: Python Sets may be of great use for this problem. https://docs.python.org/2/library/stdtypes.html#set\n",
    "\n",
    "Verify your answer by drawing out the subgraph composed of those nodes."
   ]
  },
  {
   "cell_type": "code",
   "execution_count": null,
   "metadata": {
    "collapsed": false,
    "slideshow": {
     "slide_type": "subslide"
    }
   },
   "outputs": [],
   "source": [
    "# Possible answer\n",
    "def get_triangles(G, node):\n",
    "    neighbors = set(G.neighbors(node))\n",
    "    triangle_nodes = set()\n",
    "    \"\"\"\n",
    "    Fill in the rest of the code below.\n",
    "    \"\"\"\n",
    "\n",
    "    \n",
    "    \n",
    "    \n",
    "    return triangle_nodes\n",
    "\n",
    "# Verify your answer with the following funciton call. Should return:\n",
    "# {1, 2, 3, 6, 23}\n",
    "get_triangles(G, 3)"
   ]
  },
  {
   "cell_type": "code",
   "execution_count": null,
   "metadata": {
    "collapsed": false,
    "slideshow": {
     "slide_type": "subslide"
    }
   },
   "outputs": [],
   "source": [
    "# Then, draw out those nodes.\n",
    "nx.draw(G.subgraph(get_triangles(G, 3)), with_labels=True)"
   ]
  },
  {
   "cell_type": "code",
   "execution_count": null,
   "metadata": {
    "collapsed": false,
    "slideshow": {
     "slide_type": "subslide"
    }
   },
   "outputs": [],
   "source": [
    "# Compare for yourself that node 8 isn't in a triangle relationship with the other nodes.\n",
    "neighbors3 = G.neighbors(3)\n",
    "neighbors3.append(3)\n",
    "nx.draw(G.subgraph(neighbors3), with_labels=True)"
   ]
  },
  {
   "cell_type": "markdown",
   "metadata": {
    "slideshow": {
     "slide_type": "slide"
    }
   },
   "source": [
    "# Friend Recommendation: Open Triangles\n",
    "\n",
    "Now that we have some code that identifies closed triangles, we might want to see if we can do some friend recommendations by looking for open triangles.\n",
    "\n",
    "Open triangles are like those that we described earlier on - A knows B and B knows C, but C's relationship with A isn't captured in the graph. "
   ]
  },
  {
   "cell_type": "markdown",
   "metadata": {
    "slideshow": {
     "slide_type": "subslide"
    }
   },
   "source": [
    "### Exercise\n",
    "Can you write a function that identifies, for a given node, the other two nodes that it is involved with in an open triangle, if there is one? \n",
    "\n",
    "Hint: You may still want to stick with set operations. Suppose we have the A-B-C triangle. If there are neighbors of C that are also neighbors of B, then those neighbors are in a triangle with B and C; consequently, if there are nodes for which C's neighbors do not overlap with B's neighbors, then those nodes are in an open triangle. The final implementation should include some conditions, and probably won't be as simple as described above."
   ]
  },
  {
   "cell_type": "code",
   "execution_count": null,
   "metadata": {
    "collapsed": true,
    "slideshow": {
     "slide_type": "subslide"
    }
   },
   "outputs": [],
   "source": [
    "# Possible Answer, credit Justin Zabilansky (MIT) for help on this.\n",
    "def get_open_triangles(G, node):\n",
    "    \"\"\"\n",
    "    There are many ways to represent this. One may choose to represent only the nodes involved \n",
    "    in an open triangle; this is not the approach taken here.\n",
    "    \n",
    "    Rather, we have a code that explicitly enumrates every open triangle present.\n",
    "    \"\"\"\n",
    "    open_triangle_nodes = []\n",
    "    neighbors = set(G.neighbors(node))\n",
    "    \n",
    "    for n in neighbors:\n",
    "        # Fill in code below.\n",
    "        \n",
    "        \n",
    "        \n",
    "        \n",
    "        \n",
    "        \n",
    "    return open_triangle_nodes"
   ]
  },
  {
   "cell_type": "code",
   "execution_count": null,
   "metadata": {
    "collapsed": false,
    "slideshow": {
     "slide_type": "subslide"
    }
   },
   "outputs": [],
   "source": [
    "# # Uncomment the following code if you want to draw out each of the triplets.\n",
    "# nodes = get_open_triangles(G, 2)\n",
    "# for i, triplet in enumerate(nodes):\n",
    "#     fig = plt.figure(i)\n",
    "#     nx.draw(G.subgraph(triplet), with_labels=True)\n",
    "print(get_open_triangles(G, 19))\n",
    "len(get_open_triangles(G, 19))"
   ]
  },
  {
   "cell_type": "markdown",
   "metadata": {
    "slideshow": {
     "slide_type": "subslide"
    }
   },
   "source": [
    "If you remember the previous section on hubs and paths, you will note that node 19 was involved in a lot of open triangles.\n",
    "\n",
    "Triangle closure is also the core idea behind social networks' friend recommendation systems; of course, it's definitely more complicated than what we've implemented here."
   ]
  },
  {
   "cell_type": "markdown",
   "metadata": {
    "collapsed": false,
    "slideshow": {
     "slide_type": "slide"
    }
   },
   "source": [
    "# Please Network With One Another!\n",
    "\n",
    "I would like to become a hub node in our PyData network :).\n",
    "\n",
    "I also wish to create many triangle cliques with each of you. \n",
    "\n",
    "Please exchange your cards with a neighbor. "
   ]
  },
  {
   "cell_type": "code",
   "execution_count": null,
   "metadata": {
    "collapsed": true
   },
   "outputs": [],
   "source": []
  }
 ],
 "metadata": {
  "celltoolbar": "Slideshow",
  "kernelspec": {
   "display_name": "Python 3",
   "language": "python",
   "name": "python3"
  },
  "language_info": {
   "codemirror_mode": {
    "name": "ipython",
    "version": 3
   },
   "file_extension": ".py",
   "mimetype": "text/x-python",
   "name": "python",
   "nbconvert_exporter": "python",
   "pygments_lexer": "ipython3",
   "version": "3.5.0"
  }
 },
 "nbformat": 4,
 "nbformat_minor": 0
}
