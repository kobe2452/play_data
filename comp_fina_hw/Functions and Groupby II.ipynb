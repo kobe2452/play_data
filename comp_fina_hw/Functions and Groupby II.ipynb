{
 "cells": [
  {
   "cell_type": "markdown",
   "metadata": {},
   "source": [
    "# Functions and Groupby: some additional work"
   ]
  },
  {
   "cell_type": "code",
   "execution_count": 42,
   "metadata": {
    "collapsed": true
   },
   "outputs": [],
   "source": [
    "import pandas as pd \n",
    "from pandas import DataFrame\n",
    "import numpy as np\n",
    "import datetime\n",
    "import csv"
   ]
  },
  {
   "cell_type": "markdown",
   "metadata": {},
   "source": [
    "## Read Data from csv\n",
    "\n",
    "Change myfile to reflect location of your input file"
   ]
  },
  {
   "cell_type": "code",
   "execution_count": 43,
   "metadata": {
    "collapsed": false
   },
   "outputs": [
    {
     "name": "stdout",
     "output_type": "stream",
     "text": [
      "   PERMNO      date TICKER          COMNAM      PRC       VOL       RET\n",
      "0   10107  20070131   MSFT  MICROSOFT CORP  30.8600  13390496  0.033490\n",
      "1   10107  20070228   MSFT  MICROSOFT CORP  28.1700  13007733 -0.083927\n",
      "2   10107  20070330   MSFT  MICROSOFT CORP  27.8700  12832900 -0.010650\n",
      "3   10107  20070430   MSFT  MICROSOFT CORP  29.9400   9676052  0.074273\n",
      "4   10107  20070531   MSFT  MICROSOFT CORP  30.6901  13176580  0.028393\n"
     ]
    }
   ],
   "source": [
    "myfile = 'P:/Ashok/Teaching/SemFinAnal/Data/5 stocks returns volume.csv'\n",
    "stocks = pd.read_csv(myfile)\n",
    "print(stocks.head(n=5))"
   ]
  },
  {
   "cell_type": "markdown",
   "metadata": {},
   "source": [
    "## Date manipulation\n",
    "\n",
    "*Questions:*  \n",
    "1. Can you obtain the month as a variable?"
   ]
  },
  {
   "cell_type": "code",
   "execution_count": 44,
   "metadata": {
    "collapsed": false
   },
   "outputs": [
    {
     "name": "stdout",
     "output_type": "stream",
     "text": [
      "   PERMNO       date TICKER          COMNAM    PRC       VOL       RET  year\n",
      "0   10107 2007-01-31   MSFT  MICROSOFT CORP  30.86  13390496  0.033490  2007\n",
      "1   10107 2007-02-28   MSFT  MICROSOFT CORP  28.17  13007733 -0.083927  2007\n",
      "2   10107 2007-03-30   MSFT  MICROSOFT CORP  27.87  12832900 -0.010650  2007\n"
     ]
    },
    {
     "data": {
      "text/plain": [
       "PERMNO             int64\n",
       "date      datetime64[ns]\n",
       "TICKER            object\n",
       "COMNAM            object\n",
       "PRC              float64\n",
       "VOL                int64\n",
       "RET              float64\n",
       "year               int64\n",
       "dtype: object"
      ]
     },
     "execution_count": 44,
     "metadata": {},
     "output_type": "execute_result"
    }
   ],
   "source": [
    "stocks['date'] = pd.to_datetime(stocks['date'],format='%Y%m%d' )\n",
    "stocks['year'] = stocks['date'].dt.year\n",
    "print(stocks.head(n=3))\n",
    "stocks.dtypes"
   ]
  },
  {
   "cell_type": "markdown",
   "metadata": {},
   "source": [
    "## Groupby & Applying functions on Groups\n",
    "\n"
   ]
  },
  {
   "cell_type": "code",
   "execution_count": 45,
   "metadata": {
    "collapsed": false
   },
   "outputs": [],
   "source": [
    "ret_grp = stocks.groupby(['TICKER','year'])"
   ]
  },
  {
   "cell_type": "code",
   "execution_count": 46,
   "metadata": {
    "collapsed": false
   },
   "outputs": [
    {
     "data": {
      "text/plain": [
       "TICKER  year\n",
       "AAPL    2007    1.334749\n",
       "        2008   -0.569114\n",
       "        2009    1.469034\n",
       "        2010    0.530665\n",
       "        2011    0.255580\n",
       "        2012    0.325217\n",
       "        2013    0.080306\n",
       "        2014    0.404335\n",
       "        2015   -0.030401\n",
       "DE      2007    0.986050\n",
       "        2008   -0.580217\n",
       "        2009    0.450359\n",
       "Name: RET, dtype: float64"
      ]
     },
     "execution_count": 46,
     "metadata": {},
     "output_type": "execute_result"
    }
   ],
   "source": [
    "def get_annual_return(value):\n",
    "    aret = 1\n",
    "    for x in value:\n",
    "        aret = aret * (x + 1)\n",
    "    return aret - 1\n",
    "\n",
    "#ret_data = stocks.groupby(['TICKER','year']).RET.apply(get_annual_return)\n",
    "ret_data = ret_grp.RET.apply(get_annual_return)\n",
    "ret_data.head(n=12)"
   ]
  },
  {
   "cell_type": "markdown",
   "metadata": {},
   "source": [
    "*Questions:*\n",
    "1. What does the function calculate?\n",
    "2. What compounding convention is used by this function? Can you think of an alternative?\n",
    "3. Examine the structure of the code invoking the function. What is the sequence of the arguments?\n",
    "4. Use dtypes on \"ret_data\" and also examine the index. Is there somthing interesting in the structure of the dataframe?\n",
    "5. Can you use the above approach to find means of monthly returns (Jan, Feb, etc.) by stock? In other words, what is MSFT mean return for January, Feb, etc.?"
   ]
  },
  {
   "cell_type": "code",
   "execution_count": 47,
   "metadata": {
    "collapsed": false
   },
   "outputs": [
    {
     "data": {
      "text/plain": [
       "MultiIndex(levels=[['AAPL', 'DE', 'JNJ', 'MSFT', 'XOM'], [2007, 2008, 2009, 2010, 2011, 2012, 2013, 2014, 2015]],\n",
       "           labels=[[0, 0, 0, 0, 0, 0, 0, 0, 0, 1, 1, 1, 1, 1, 1, 1, 1, 1, 2, 2, 2, 2, 2, 2, 2, 2, 2, 3, 3, 3, 3, 3, 3, 3, 3, 3, 4, 4, 4, 4, 4, 4, 4, 4, 4], [0, 1, 2, 3, 4, 5, 6, 7, 8, 0, 1, 2, 3, 4, 5, 6, 7, 8, 0, 1, 2, 3, 4, 5, 6, 7, 8, 0, 1, 2, 3, 4, 5, 6, 7, 8, 0, 1, 2, 3, 4, 5, 6, 7, 8]],\n",
       "           names=['TICKER', 'year'])"
      ]
     },
     "execution_count": 47,
     "metadata": {},
     "output_type": "execute_result"
    }
   ],
   "source": [
    "ret_data.index"
   ]
  },
  {
   "cell_type": "markdown",
   "metadata": {},
   "source": [
    "## Another Example - get quarterly prices"
   ]
  },
  {
   "cell_type": "code",
   "execution_count": 48,
   "metadata": {
    "collapsed": false
   },
   "outputs": [
    {
     "name": "stdout",
     "output_type": "stream",
     "text": [
      "  TICKER      PRC  year       date  quarter\n",
      "0   MSFT  30.8600  2007 2007-01-31        1\n",
      "1   MSFT  28.1700  2007 2007-02-28        1\n",
      "2   MSFT  27.8700  2007 2007-03-30        1\n",
      "3   MSFT  29.9400  2007 2007-04-30        2\n",
      "4   MSFT  30.6901  2007 2007-05-31        2\n"
     ]
    }
   ],
   "source": [
    "# subset two stocks for 2007, also create quarter column\n",
    "ticks = (\"MSFT\",\"AAPL\")\n",
    "stocks['quarter'] = (stocks['date'].dt.month-1)//3 + 1\n",
    "stocks1 = stocks.loc[((stocks.year) == 2007) & ((stocks.TICKER).isin(ticks)), ['TICKER','PRC','year','date','quarter']]\n",
    "print(stocks1.head(n=5))"
   ]
  },
  {
   "cell_type": "code",
   "execution_count": 49,
   "metadata": {
    "collapsed": false
   },
   "outputs": [
    {
     "name": "stdout",
     "output_type": "stream",
     "text": [
      "TICKER  year  quarter     \n",
      "AAPL    2007  1        218     92.91\n",
      "              2        221    122.04\n",
      "              3        224    153.47\n",
      "              4        227    198.08\n",
      "MSFT    2007  1        2       27.87\n",
      "Name: PRC, dtype: float64\n"
     ]
    }
   ],
   "source": [
    "# get the closing price for quarter: set group, define function, run function\n",
    "ret_grp1 = stocks1.groupby(['TICKER','year','quarter'])\n",
    "\n",
    "def get_last_price(value):\n",
    "    lastprice = value[-1:]\n",
    "    return lastprice\n",
    "\n",
    "qterly_prc_data = ret_grp1.PRC.apply(get_last_price)\n",
    "print(qterly_prc_data.head(n=5))"
   ]
  },
  {
   "cell_type": "code",
   "execution_count": 50,
   "metadata": {
    "collapsed": false
   },
   "outputs": [
    {
     "name": "stdout",
     "output_type": "stream",
     "text": [
      "                          price\n",
      "TICKER year quarter            \n",
      "AAPL   2007 1       218   92.91\n",
      "            2       221  122.04\n",
      "            3       224  153.47\n",
      "            4       227  198.08\n",
      "MSFT   2007 1       2     27.87\n"
     ]
    }
   ],
   "source": [
    "# convert series with 4 indexes (3 names, 1 unnamed) to a dataframe with 4 indexes\n",
    "newdf = qterly_prc_data.to_frame(name='price')\n",
    "print(newdf.head(n=5))"
   ]
  },
  {
   "cell_type": "code",
   "execution_count": 51,
   "metadata": {
    "collapsed": false
   },
   "outputs": [
    {
     "name": "stdout",
     "output_type": "stream",
     "text": [
      "  TICKER  year  quarter  level_3   price\n",
      "0   AAPL  2007        1      218   92.91\n",
      "1   AAPL  2007        2      221  122.04\n",
      "2   AAPL  2007        3      224  153.47\n",
      "3   AAPL  2007        4      227  198.08\n",
      "4   MSFT  2007        1        2   27.87\n"
     ]
    }
   ],
   "source": [
    "# convert the indexes to columns\n",
    "newdf.reset_index(inplace=True)\n",
    "print(newdf.head(n=5))"
   ]
  },
  {
   "cell_type": "code",
   "execution_count": 52,
   "metadata": {
    "collapsed": false
   },
   "outputs": [
    {
     "name": "stdout",
     "output_type": "stream",
     "text": [
      "  TICKER  year  quarter   price\n",
      "0   AAPL  2007        1   92.91\n",
      "1   AAPL  2007        2  122.04\n",
      "2   AAPL  2007        3  153.47\n",
      "3   AAPL  2007        4  198.08\n",
      "4   MSFT  2007        1   27.87\n"
     ]
    }
   ],
   "source": [
    "# delete unwanted column\n",
    "newdf.drop('level_3', axis=1, inplace=True)\n",
    "print(newdf.head(n=5))"
   ]
  },
  {
   "cell_type": "code",
   "execution_count": null,
   "metadata": {
    "collapsed": true
   },
   "outputs": [],
   "source": []
  }
 ],
 "metadata": {
  "anaconda-cloud": {},
  "kernelspec": {
   "display_name": "Python [Root]",
   "language": "python",
   "name": "Python [Root]"
  },
  "language_info": {
   "codemirror_mode": {
    "name": "ipython",
    "version": 3
   },
   "file_extension": ".py",
   "mimetype": "text/x-python",
   "name": "python",
   "nbconvert_exporter": "python",
   "pygments_lexer": "ipython3",
   "version": "3.5.2"
  }
 },
 "nbformat": 4,
 "nbformat_minor": 0
}
